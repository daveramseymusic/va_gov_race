{
 "cells": [
  {
   "cell_type": "markdown",
   "metadata": {},
   "source": [
    "# Hashtags VS Real Clear Politics: \n",
    "# VA Gov 2021 Race Oct 8 - Nov 2"
   ]
  },
  {
   "cell_type": "code",
   "execution_count": 1,
   "metadata": {},
   "outputs": [],
   "source": [
    "#import the libraries\n",
    "import tweepy\n",
    "import pandas as pd\n",
    "import numpy as np\n",
    "import matplotlib.pyplot as plt\n",
    "import seaborn as sns\n",
    "import datetime as dt\n",
    "# pip install realclearpolitics"
   ]
  },
  {
   "cell_type": "code",
   "execution_count": 2,
   "metadata": {},
   "outputs": [],
   "source": [
    "#import csv of all timed tweet\n",
    "df = pd.read_csv('va_concated_gov_searches_2021-11-02_from_2021-10-08_606950rows_updated_columns.csv')"
   ]
  },
  {
   "cell_type": "markdown",
   "metadata": {},
   "source": [
    "### Create Is Glenn, Day/Hour, and Sort"
   ]
  },
  {
   "cell_type": "code",
   "execution_count": 3,
   "metadata": {},
   "outputs": [
    {
     "data": {
      "text/plain": [
       "33558"
      ]
     },
     "execution_count": 3,
     "metadata": {},
     "output_type": "execute_result"
    }
   ],
   "source": [
    "df.timestamp = pd.to_datetime(df.timestamp)\n",
    "\n",
    "# convert time from London time to VA time\n",
    "df['timestamp'] = df['timestamp'] - pd.Timedelta('4 hours')\n",
    "\n",
    "#create hour column and day column\n",
    "df['hour'] = df.timestamp.dt.to_period('H')\n",
    "df['day'] = df.timestamp.dt.to_period('D')\n",
    "\n",
    "cond = (df.ispolarized == 1) & (df.isglenn == True) \n",
    "df['polarity'] = np.where(cond, 1, -1)\n",
    "df = df[df.ispolarized == 1]\n",
    "\n",
    "# create rolling polarity mean column\n",
    "df = df.sort_values('timestamp', ascending=True)\n",
    "df = df.reset_index(drop=True); len(df)"
   ]
  },
  {
   "cell_type": "markdown",
   "metadata": {},
   "source": [
    "## visualize ALL TWEETS data over time"
   ]
  },
  {
   "cell_type": "code",
   "execution_count": 4,
   "metadata": {},
   "outputs": [
    {
     "data": {
      "text/html": [
       "<div>\n",
       "<style scoped>\n",
       "    .dataframe tbody tr th:only-of-type {\n",
       "        vertical-align: middle;\n",
       "    }\n",
       "\n",
       "    .dataframe tbody tr th {\n",
       "        vertical-align: top;\n",
       "    }\n",
       "\n",
       "    .dataframe thead th {\n",
       "        text-align: right;\n",
       "    }\n",
       "</style>\n",
       "<table border=\"1\" class=\"dataframe\">\n",
       "  <thead>\n",
       "    <tr style=\"text-align: right;\">\n",
       "      <th></th>\n",
       "      <th>Unnamed: 0</th>\n",
       "      <th>Unnamed: 0.1</th>\n",
       "      <th>Unnamed: 0.1.1</th>\n",
       "      <th>favorite_count</th>\n",
       "      <th>id_str</th>\n",
       "      <th>full_text</th>\n",
       "      <th>lang</th>\n",
       "      <th>in_reply_to_user_id_str</th>\n",
       "      <th>quoted_status_id_str</th>\n",
       "      <th>source</th>\n",
       "      <th>...</th>\n",
       "      <th>location</th>\n",
       "      <th>regex</th>\n",
       "      <th>is_retweet</th>\n",
       "      <th>isglenn</th>\n",
       "      <th>isterry</th>\n",
       "      <th>ispolarized</th>\n",
       "      <th>hour</th>\n",
       "      <th>day</th>\n",
       "      <th>polarity</th>\n",
       "      <th>dailyPolarityAll</th>\n",
       "    </tr>\n",
       "  </thead>\n",
       "  <tbody>\n",
       "    <tr>\n",
       "      <th>33557</th>\n",
       "      <td>136948</td>\n",
       "      <td>136948</td>\n",
       "      <td>10</td>\n",
       "      <td>0.0</td>\n",
       "      <td>1.455565e+18</td>\n",
       "      <td>RT @mikepompeo: TODAY is #ElectionDay in Virgi...</td>\n",
       "      <td>en</td>\n",
       "      <td>NaN</td>\n",
       "      <td>NaN</td>\n",
       "      <td>Twitter for Android</td>\n",
       "      <td>...</td>\n",
       "      <td>NaN</td>\n",
       "      <td>['#electionday', '#winwithglenn']</td>\n",
       "      <td>1</td>\n",
       "      <td>True</td>\n",
       "      <td>False</td>\n",
       "      <td>1</td>\n",
       "      <td>2021-11-02 12:00</td>\n",
       "      <td>2021-11-02</td>\n",
       "      <td>1</td>\n",
       "      <td>0.294906</td>\n",
       "    </tr>\n",
       "  </tbody>\n",
       "</table>\n",
       "<p>1 rows × 32 columns</p>\n",
       "</div>"
      ],
      "text/plain": [
       "       Unnamed: 0  Unnamed: 0.1  Unnamed: 0.1.1  favorite_count        id_str  \\\n",
       "33557      136948        136948              10             0.0  1.455565e+18   \n",
       "\n",
       "                                               full_text lang  \\\n",
       "33557  RT @mikepompeo: TODAY is #ElectionDay in Virgi...   en   \n",
       "\n",
       "       in_reply_to_user_id_str  quoted_status_id_str               source  \\\n",
       "33557                      NaN                   NaN  Twitter for Android   \n",
       "\n",
       "       ...  location                              regex is_retweet  isglenn  \\\n",
       "33557  ...       NaN  ['#electionday', '#winwithglenn']          1     True   \n",
       "\n",
       "       isterry ispolarized              hour         day polarity  \\\n",
       "33557    False           1  2021-11-02 12:00  2021-11-02        1   \n",
       "\n",
       "      dailyPolarityAll  \n",
       "33557         0.294906  \n",
       "\n",
       "[1 rows x 32 columns]"
      ]
     },
     "execution_count": 4,
     "metadata": {},
     "output_type": "execute_result"
    }
   ],
   "source": [
    "# create dailyPolarityAll\n",
    "all_daily_polarity = df.groupby(['day']).polarity.mean().reset_index()\n",
    "all_daily_polarity.columns = ['day','dailyPolarityAll']\n",
    "df = pd.merge(df,all_daily_polarity, how='outer')\n",
    "df.tail(1)"
   ]
  },
  {
   "cell_type": "markdown",
   "metadata": {},
   "source": [
    "### Create VA Daily Polarity"
   ]
  },
  {
   "cell_type": "code",
   "execution_count": 5,
   "metadata": {},
   "outputs": [
    {
     "data": {
      "text/html": [
       "<div>\n",
       "<style scoped>\n",
       "    .dataframe tbody tr th:only-of-type {\n",
       "        vertical-align: middle;\n",
       "    }\n",
       "\n",
       "    .dataframe tbody tr th {\n",
       "        vertical-align: top;\n",
       "    }\n",
       "\n",
       "    .dataframe thead th {\n",
       "        text-align: right;\n",
       "    }\n",
       "</style>\n",
       "<table border=\"1\" class=\"dataframe\">\n",
       "  <thead>\n",
       "    <tr style=\"text-align: right;\">\n",
       "      <th></th>\n",
       "      <th>Unnamed: 0</th>\n",
       "      <th>Unnamed: 0.1</th>\n",
       "      <th>Unnamed: 0.1.1</th>\n",
       "      <th>favorite_count</th>\n",
       "      <th>id_str</th>\n",
       "      <th>full_text</th>\n",
       "      <th>lang</th>\n",
       "      <th>in_reply_to_user_id_str</th>\n",
       "      <th>quoted_status_id_str</th>\n",
       "      <th>source</th>\n",
       "      <th>...</th>\n",
       "      <th>is_retweet</th>\n",
       "      <th>isglenn</th>\n",
       "      <th>isterry</th>\n",
       "      <th>ispolarized</th>\n",
       "      <th>hour</th>\n",
       "      <th>day</th>\n",
       "      <th>polarity</th>\n",
       "      <th>dailyPolarityAll</th>\n",
       "      <th>dailyPolarityVa</th>\n",
       "      <th>dailyMaPolarityVa</th>\n",
       "    </tr>\n",
       "  </thead>\n",
       "  <tbody>\n",
       "    <tr>\n",
       "      <th>33557</th>\n",
       "      <td>136948</td>\n",
       "      <td>136948</td>\n",
       "      <td>10</td>\n",
       "      <td>0.0</td>\n",
       "      <td>1.455565e+18</td>\n",
       "      <td>RT @mikepompeo: TODAY is #ElectionDay in Virgi...</td>\n",
       "      <td>en</td>\n",
       "      <td>NaN</td>\n",
       "      <td>NaN</td>\n",
       "      <td>Twitter for Android</td>\n",
       "      <td>...</td>\n",
       "      <td>1</td>\n",
       "      <td>True</td>\n",
       "      <td>False</td>\n",
       "      <td>1</td>\n",
       "      <td>2021-11-02 12:00</td>\n",
       "      <td>2021-11-02</td>\n",
       "      <td>1</td>\n",
       "      <td>0.294906</td>\n",
       "      <td>0.555556</td>\n",
       "      <td>0.495586</td>\n",
       "    </tr>\n",
       "  </tbody>\n",
       "</table>\n",
       "<p>1 rows × 34 columns</p>\n",
       "</div>"
      ],
      "text/plain": [
       "       Unnamed: 0  Unnamed: 0.1  Unnamed: 0.1.1  favorite_count        id_str  \\\n",
       "33557      136948        136948              10             0.0  1.455565e+18   \n",
       "\n",
       "                                               full_text lang  \\\n",
       "33557  RT @mikepompeo: TODAY is #ElectionDay in Virgi...   en   \n",
       "\n",
       "       in_reply_to_user_id_str  quoted_status_id_str               source  \\\n",
       "33557                      NaN                   NaN  Twitter for Android   \n",
       "\n",
       "       ...  is_retweet  isglenn isterry  ispolarized              hour  \\\n",
       "33557  ...           1     True   False            1  2021-11-02 12:00   \n",
       "\n",
       "              day  polarity  dailyPolarityAll dailyPolarityVa  \\\n",
       "33557  2021-11-02         1          0.294906        0.555556   \n",
       "\n",
       "      dailyMaPolarityVa  \n",
       "33557          0.495586  \n",
       "\n",
       "[1 rows x 34 columns]"
      ]
     },
     "execution_count": 5,
     "metadata": {},
     "output_type": "execute_result"
    }
   ],
   "source": [
    "# create only VA df \n",
    "dfloc = df #save as a new location df \n",
    "dfloc =  df.dropna(subset=['location'])  #drop rows with na in location\n",
    "dfloc = dfloc[dfloc.location.str.lower().str.contains('virginia|, va|va')].reset_index(drop=True) #filter only va tweeters\n",
    "\n",
    "\n",
    "\n",
    "va_daily_polarity = dfloc.groupby(['day']).polarity.mean().reset_index()\n",
    "va_daily_polarity.columns = ['day','dailyPolarityVa']\n",
    "#create a MA Moving Average of 4 days \n",
    "va_daily_polarity['dailyMaPolarityVa'] = va_daily_polarity.dailyPolarityVa.rolling(3,min_periods=1).mean()\n",
    "df = pd.merge(df,va_daily_polarity, how='outer');df.tail(1)"
   ]
  },
  {
   "cell_type": "markdown",
   "metadata": {},
   "source": [
    "### Add Real Clear Politics RCP columns"
   ]
  },
  {
   "cell_type": "code",
   "execution_count": 6,
   "metadata": {},
   "outputs": [],
   "source": [
    "dfr = pd.read_csv('va_gov_real_clear_all_polls.csv')"
   ]
  },
  {
   "cell_type": "code",
   "execution_count": 7,
   "metadata": {},
   "outputs": [],
   "source": [
    "# import datetime as dt\n",
    "#fix column names\n",
    "cols = dfr.columns\n",
    "dfr.columns = cols.str.lower()\n",
    "\n",
    "dfr['polarity'] = dfr['youngkin (r)'] - dfr['mcauliffe (d)']\n",
    "\n",
    "dfr['start'] = dfr.date\n",
    "dfr.start = dfr.start.str.replace(r' -.*','', regex=True)\n",
    "dfr['end'] = dfr.date\n",
    "dfr.end = dfr.end.str.replace(r'.*- ','', regex=True)\n",
    "dfr.end = dfr.end + '/21'\n",
    "dfr.start = dfr.start + '/21'\n",
    "dfr.start = dfr.start.str.replace('--/21','--')\n",
    "dfr.end = dfr.end.str.replace('--/21','--')\n",
    "dfr.start = dfr.start.str.replace('--','NaT')\n",
    "dfr.end = dfr.end.str.replace('--','NaT')\n",
    "dfr.date = dfr.date.str.replace('--','NaT')\n",
    "\n",
    "dfr.start = pd.to_datetime(dfr.start, errors='ignore')\n",
    "dfr.end = pd.to_datetime(dfr.end, errors='ignore')\n",
    "\n",
    "# create time elapsed. add 1 day to include last 'survey day'\n",
    "dfr['elapsed'] = dfr.end - dfr.start + dt.timedelta(days=1)\n",
    "dfr['elapsedint'] = dfr.elapsed.dt.days \n",
    "\n",
    "# create extra rows for each day of a poll\n",
    "dfs = dfr[1:]\n",
    "repeated_rows = dfs.loc[dfs.index.repeat(dfs.elapsedint)]\n",
    "dfr_one = dfr[:1]\n",
    "dfr = dfr_one.append(repeated_rows)\n",
    "\n",
    "dfr = dfr.reset_index()\n",
    "dfr['poll_day'] = dfr.groupby('index').cumcount() #enumerate each poll row per poll\n",
    "dfr.poll_day = pd.to_timedelta(dfr.poll_day,'day') #turn into timedelta\n",
    "\n",
    "dfr['rdate'] = dfr.start + dfr.poll_day # create 'real date' for each row"
   ]
  },
  {
   "cell_type": "code",
   "execution_count": 8,
   "metadata": {},
   "outputs": [],
   "source": [
    "dfr.columns = ['index', 'poll', 'dateRange', 'sample', 'moe', 'youngkin (r)',\n",
    "       'mcauliffe (d)', 'spread', 'polarity', 'start', 'end', 'elapsed',\n",
    "       'elapsedint', 'poll_day', 'day']"
   ]
  },
  {
   "cell_type": "code",
   "execution_count": 9,
   "metadata": {},
   "outputs": [],
   "source": [
    "rcp_polarity = dfr.groupby('day').polarity.mean().reset_index()"
   ]
  },
  {
   "cell_type": "code",
   "execution_count": 10,
   "metadata": {},
   "outputs": [
    {
     "data": {
      "text/html": [
       "<div>\n",
       "<style scoped>\n",
       "    .dataframe tbody tr th:only-of-type {\n",
       "        vertical-align: middle;\n",
       "    }\n",
       "\n",
       "    .dataframe tbody tr th {\n",
       "        vertical-align: top;\n",
       "    }\n",
       "\n",
       "    .dataframe thead th {\n",
       "        text-align: right;\n",
       "    }\n",
       "</style>\n",
       "<table border=\"1\" class=\"dataframe\">\n",
       "  <thead>\n",
       "    <tr style=\"text-align: right;\">\n",
       "      <th></th>\n",
       "      <th>Unnamed: 0</th>\n",
       "      <th>Unnamed: 0.1</th>\n",
       "      <th>Unnamed: 0.1.1</th>\n",
       "      <th>favorite_count</th>\n",
       "      <th>id_str</th>\n",
       "      <th>full_text</th>\n",
       "      <th>lang</th>\n",
       "      <th>in_reply_to_user_id_str</th>\n",
       "      <th>quoted_status_id_str</th>\n",
       "      <th>source</th>\n",
       "      <th>...</th>\n",
       "      <th>isglenn</th>\n",
       "      <th>isterry</th>\n",
       "      <th>ispolarized</th>\n",
       "      <th>hour</th>\n",
       "      <th>day</th>\n",
       "      <th>polarity</th>\n",
       "      <th>dailyPolarityAll</th>\n",
       "      <th>dailyPolarityVa</th>\n",
       "      <th>dailyMaPolarityVa</th>\n",
       "      <th>dailyPolarityRCP</th>\n",
       "    </tr>\n",
       "  </thead>\n",
       "  <tbody>\n",
       "    <tr>\n",
       "      <th>33619</th>\n",
       "      <td>NaN</td>\n",
       "      <td>NaN</td>\n",
       "      <td>NaN</td>\n",
       "      <td>NaN</td>\n",
       "      <td>NaN</td>\n",
       "      <td>NaN</td>\n",
       "      <td>NaN</td>\n",
       "      <td>NaN</td>\n",
       "      <td>NaN</td>\n",
       "      <td>NaN</td>\n",
       "      <td>...</td>\n",
       "      <td>NaN</td>\n",
       "      <td>NaN</td>\n",
       "      <td>NaN</td>\n",
       "      <td>NaT</td>\n",
       "      <td>2021-10-29</td>\n",
       "      <td>NaN</td>\n",
       "      <td>NaN</td>\n",
       "      <td>NaN</td>\n",
       "      <td>NaN</td>\n",
       "      <td>0.739783</td>\n",
       "    </tr>\n",
       "  </tbody>\n",
       "</table>\n",
       "<p>1 rows × 35 columns</p>\n",
       "</div>"
      ],
      "text/plain": [
       "       Unnamed: 0  Unnamed: 0.1  Unnamed: 0.1.1  favorite_count  id_str  \\\n",
       "33619         NaN           NaN             NaN             NaN     NaN   \n",
       "\n",
       "      full_text lang  in_reply_to_user_id_str  quoted_status_id_str source  \\\n",
       "33619       NaN  NaN                      NaN                   NaN    NaN   \n",
       "\n",
       "       ...  isglenn  isterry ispolarized  hour         day polarity  \\\n",
       "33619  ...      NaN      NaN         NaN   NaT  2021-10-29      NaN   \n",
       "\n",
       "       dailyPolarityAll  dailyPolarityVa dailyMaPolarityVa dailyPolarityRCP  \n",
       "33619               NaN              NaN               NaN         0.739783  \n",
       "\n",
       "[1 rows x 35 columns]"
      ]
     },
     "execution_count": 10,
     "metadata": {},
     "output_type": "execute_result"
    }
   ],
   "source": [
    "from scipy.special import expit\n",
    "# sig = expit(x)\n",
    "rcp_polarity['spolarity'] = expit(rcp_polarity.polarity)\n",
    "rcp_polarity['nnew_polarity'] = rcp_polarity.spolarity * 2 - 1  #make it fit between -1 & 1\n",
    "\n",
    "\n",
    "rcp_polarity = rcp_polarity[['day','nnew_polarity']] # pair down to dates\n",
    "rcp_polarity.columns = ['day', 'dailyPolarityRCP']\n",
    "\n",
    "rcp_polarity['day'] = rcp_polarity.day.dt.to_period('D')\n",
    "df = pd.merge(df,rcp_polarity, how='outer');df.tail(1)"
   ]
  },
  {
   "cell_type": "markdown",
   "metadata": {},
   "source": [
    "### Create Red polarity and Blue Polarity:\n",
    "blue will simply be the inverse of red"
   ]
  },
  {
   "cell_type": "code",
   "execution_count": 11,
   "metadata": {},
   "outputs": [],
   "source": [
    "# create a RPol and BPol\n",
    "def randb(df, col_name):\n",
    "    \n",
    "    df[f'{col_name}_rpol'] = df[f'{col_name}'] #create red polarity\n",
    "    df[f'{col_name}_bpol'] = df[f'{col_name}'] * -1 #create blue polarity(inverse) "
   ]
  },
  {
   "cell_type": "code",
   "execution_count": 12,
   "metadata": {},
   "outputs": [],
   "source": [
    "randb(df,'dailyPolarityAll')\n",
    "randb(df,'dailyPolarityVa')\n",
    "randb(df,'dailyMaPolarityVa')\n",
    "randb(df,'dailyPolarityRCP')"
   ]
  },
  {
   "cell_type": "code",
   "execution_count": 13,
   "metadata": {},
   "outputs": [],
   "source": [
    "#turn to string cause its stupid and must be put back into normal datetime insted of 'day' period.\n",
    "df.day = df.day.astype('str') \n",
    "df.day = pd.to_datetime(df['day'])"
   ]
  },
  {
   "cell_type": "code",
   "execution_count": 14,
   "metadata": {},
   "outputs": [],
   "source": [
    "# make polling follow the same dates as your tweets\n",
    "df = df.loc[df.day > np.datetime64('2021-10-07','D')]"
   ]
  },
  {
   "cell_type": "code",
   "execution_count": 15,
   "metadata": {},
   "outputs": [
    {
     "name": "stdout",
     "output_type": "stream",
     "text": [
      "Days with no tweet values\n"
     ]
    },
    {
     "data": {
      "text/plain": [
       "29801   2021-10-29\n",
       "Name: day, dtype: datetime64[ns]"
      ]
     },
     "execution_count": 15,
     "metadata": {},
     "output_type": "execute_result"
    }
   ],
   "source": [
    "df = df.sort_values('day').reset_index(drop=True)\n",
    "print('Days with no tweet values')\n",
    "df.loc[df.dailyMaPolarityVa_rpol.isnull(), 'day']"
   ]
  },
  {
   "cell_type": "code",
   "execution_count": 16,
   "metadata": {},
   "outputs": [],
   "source": [
    "#fill na null values in MaPolarity...\n",
    "df['dailyMaPolarityVa_bpol_ffill'] = df.dailyMaPolarityVa_bpol.ffill()\n",
    "df['dailyMaPolarityVa_rpol_ffill'] = df.dailyMaPolarityVa_rpol.ffill()"
   ]
  },
  {
   "cell_type": "markdown",
   "metadata": {},
   "source": [
    "## Create Graphs of RCP vs Tweets"
   ]
  },
  {
   "cell_type": "code",
   "execution_count": 17,
   "metadata": {},
   "outputs": [
    {
     "data": {
      "image/png": "[encoded data removed]",
      "text/plain": [
       "<Figure size 864x432 with 1 Axes>"
      ]
     },
     "metadata": {
      "needs_background": "light"
     },
     "output_type": "display_data"
    }
   ],
   "source": [
    "# fig, axes = plt.subplots(2,1, figsize=(14,10))\n",
    "plt.figure(figsize=(12,6))\n",
    "\n",
    "x = 'dailyPolarityAll'\n",
    "y = 'dailyMaPolarityVa'\n",
    "z = 'dailyPolarityRCP'\n",
    "\n",
    "plt.style.use('ggplot')\n",
    "\n",
    "# plt.plot(df['day'], df[f'{x}_rpol'],lw = 1, color='r', label='Yungkin All')\n",
    "# plt.plot(df['day'], df[f'{x}_bpol'],lw = 1, linestyle=\"dotted\", color='b', label = 'McAuliffe All')\n",
    "\n",
    "\n",
    "plt.plot(df['day'], df[f'{y}_rpol_ffill'],lw = 2, color='red', label='Yungkin VA Tweets')\n",
    "# plt.plot(df['day'], df[f'{y}_bpol_ffill'], lw = 2,linestyle=\"dotted\",color='b', label = 'McAuliffe VA MA')\n",
    "\n",
    "                           \n",
    "plt.plot(df['day'], df[f'{z}_rpol'], lw=3, color='maroon',linestyle=\"dotted\", label=f'Yungkin Real Clear Politics Polling')\n",
    "# plt.plot(df['day'], df[f'{z}_bpol'], lw=3, linestyle=\"dotted\",color='b', label = 'McAuliffe RCP')\n",
    "\n",
    "                           \n",
    "plt.title(\"\\n\".join([f'Youngkin Polarity - VA Daily Tweets Vs. Real Clear Politics Polling\\n Last Tweet: {df.day.max()}']))\n",
    "\n",
    "# axes[1].plot(df['day'],df['id'])\n",
    "# axes[1].set_title(\"\\n\".join(['Tweets per day']))\n",
    "plt.legend(loc='upper left')\n",
    "\n",
    "xmin = list(df.day)[0]\n",
    "xmax = list(df.day)[-1]\n",
    "\n",
    "# Horizontal line at 0\n",
    "\n",
    "plt.hlines(y= 0,  xmin=xmin, xmax=xmax,color='red', linestyle ='dashed', linewidth = 4)\n",
    "\n",
    "plt.ylim(-1, 1)\n",
    "plt.xlim(xmin, xmax)\n",
    "plt.tight_layout()\n",
    "plt.savefig('va_gov_VA_tweets_v_RCP_younkin.png',bbox_inches=\"tight\")\n",
    "plt.show()"
   ]
  },
  {
   "cell_type": "code",
   "execution_count": 18,
   "metadata": {},
   "outputs": [
    {
     "data": {
      "image/png": "[encoded data removed]",
      "text/plain": [
       "<Figure size 864x432 with 1 Axes>"
      ]
     },
     "metadata": {},
     "output_type": "display_data"
    }
   ],
   "source": [
    "# fig, axes = plt.subplots(2,1, figsize=(14,10))\n",
    "plt.figure(figsize=(12,6))\n",
    "\n",
    "x = 'dailyPolarityAll'\n",
    "y = 'dailyMaPolarityVa'\n",
    "z = 'dailyPolarityRCP'\n",
    "\n",
    "plt.style.use('ggplot')\n",
    "\n",
    "# plt.plot(df['day'], df[f'{x}_rpol'],lw = 1, color='r', label='Yungkin All')\n",
    "# plt.plot(df['day'], df[f'{x}_bpol'],lw = 1, linestyle=\"dotted\", color='b', label = 'McAuliffe All')\n",
    "\n",
    "\n",
    "# plt.plot(df['day'], df[f'{y}_rpol_ffill'],lw = 2, color='r', label='Yungkin VA MA')\n",
    "plt.plot(df['day'], df[f'{y}_bpol_ffill'], lw = 2,color='b', label = 'McAuliffe VA Tweets')\n",
    "\n",
    "                           \n",
    "# plt.plot(df['day'], df[f'{z}_rpol'], lw=3, color='maroon', label=f'Yungkin RCP')\n",
    "plt.plot(df['day'], df[f'{z}_bpol'], lw=3,linestyle=\"dotted\",color='purple', label = 'McAuliffe Real Clear Politics Polling')\n",
    "\n",
    "\n",
    "plt.title(\"\\n\".join([f' McAuliffe Polarity - VA Daily Tweets Vs. Real Clear Politics Polling\\n Last Tweet: {df.day.max()}']))\n",
    "\n",
    "# axes[1].plot(df['day'],df['id'])\n",
    "# axes[1].set_title(\"\\n\".join(['Tweets per day']))\n",
    "plt.legend(loc='upper left')\n",
    "\n",
    "xmin = list(df.day)[0]\n",
    "xmax = list(df.day)[-1]\n",
    "\n",
    "# Horizontal line at 0\n",
    "plt.hlines(y= 0,  xmin=xmin, xmax=xmax,color='red', linestyle ='dashed', linewidth = 4)\n",
    "\n",
    "plt.ylim(-1, 1)\n",
    "plt.xlim(xmin, xmax)\n",
    "plt.tight_layout()\n",
    "plt.savefig('va_gov_VA_tweets_v_RCP_mcauliffe.png',bbox_inches=\"tight\")\n",
    "plt.show()"
   ]
  }
 ],
 "metadata": {
  "interpreter": {
   "hash": "aee8b7b246df8f9039afb4144a1f6fd8d2ca17a180786b69acc140d282b71a49"
  },
  "kernelspec": {
   "display_name": "Python 3",
   "language": "python",
   "name": "python3"
  },
  "language_info": {
   "codemirror_mode": {
    "name": "ipython",
    "version": 3
   },
   "file_extension": ".py",
   "mimetype": "text/x-python",
   "name": "python",
   "nbconvert_exporter": "python",
   "pygments_lexer": "ipython3",
   "version": "3.8.6"
  }
 },
 "nbformat": 4,
 "nbformat_minor": 2
}
